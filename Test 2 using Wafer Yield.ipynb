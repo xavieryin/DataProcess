{
 "cells": [
  {
   "cell_type": "code",
   "execution_count": 7,
   "id": "c92f5c7f",
   "metadata": {},
   "outputs": [
    {
     "output_type": "stream",
     "name": "stdout",
     "text": [
      "  Wafer  Bin  Sub_Bin  Reading_1  Reading_2\n0     A    2     2001         18         21\n1     A    3     3002         12         25\n2     A    1     1001         20         29\n3     A    2     2002         13         30\n4     A    4     4003         16         24\nBin      1    2    3    4\nWafer                    \nA      4.0  2.0  3.0  1.0\nB      4.0  2.0  1.0  3.0\nC      3.0  NaN  3.0  4.0\n"
     ]
    },
    {
     "output_type": "error",
     "ename": "AttributeError",
     "evalue": "'DataFrame' object has no attribute 'Wafer'",
     "traceback": [
      "\u001b[1;31m---------------------------------------------------------------------------\u001b[0m",
      "\u001b[1;31mAttributeError\u001b[0m                            Traceback (most recent call last)",
      "\u001b[1;32m<ipython-input-7-4129bf4adf38>\u001b[0m in \u001b[0;36m<module>\u001b[1;34m\u001b[0m\n\u001b[0;32m      9\u001b[0m \u001b[1;33m\u001b[0m\u001b[0m\n\u001b[0;32m     10\u001b[0m \u001b[1;31m####################################################################################################\u001b[0m\u001b[1;33m\u001b[0m\u001b[1;33m\u001b[0m\u001b[1;33m\u001b[0m\u001b[0m\n\u001b[1;32m---> 11\u001b[1;33m \u001b[0mwafer_cnts\u001b[0m \u001b[1;33m=\u001b[0m \u001b[0mpd\u001b[0m\u001b[1;33m.\u001b[0m\u001b[0mDataFrame\u001b[0m\u001b[1;33m(\u001b[0m\u001b[0mdf1\u001b[0m\u001b[1;33m.\u001b[0m\u001b[0mWafer\u001b[0m\u001b[1;33m.\u001b[0m\u001b[0mvalue_counts\u001b[0m\u001b[1;33m(\u001b[0m\u001b[0mnormalize\u001b[0m\u001b[1;33m=\u001b[0m\u001b[1;32mTrue\u001b[0m\u001b[1;33m)\u001b[0m\u001b[1;33m*\u001b[0m\u001b[1;36m100\u001b[0m\u001b[1;33m)\u001b[0m\u001b[1;33m.\u001b[0m\u001b[0mreset_index\u001b[0m\u001b[1;33m(\u001b[0m\u001b[1;33m)\u001b[0m\u001b[1;33m\u001b[0m\u001b[1;33m\u001b[0m\u001b[0m\n\u001b[0m\u001b[0;32m     12\u001b[0m \u001b[0mprint\u001b[0m\u001b[1;33m(\u001b[0m\u001b[0mwafer_cnts\u001b[0m\u001b[1;33m)\u001b[0m\u001b[1;33m\u001b[0m\u001b[1;33m\u001b[0m\u001b[0m\n\u001b[0;32m     13\u001b[0m \u001b[1;31m# df1_1 = df.pivot_table(index=['Wafer'], columns=\"Bin\", values='Reading_1', aggfunc='%count')\u001b[0m\u001b[1;33m\u001b[0m\u001b[1;33m\u001b[0m\u001b[1;33m\u001b[0m\u001b[0m\n",
      "\u001b[1;32m~\\anaconda3\\lib\\site-packages\\pandas\\core\\generic.py\u001b[0m in \u001b[0;36m__getattr__\u001b[1;34m(self, name)\u001b[0m\n\u001b[0;32m   5463\u001b[0m             \u001b[1;32mif\u001b[0m \u001b[0mself\u001b[0m\u001b[1;33m.\u001b[0m\u001b[0m_info_axis\u001b[0m\u001b[1;33m.\u001b[0m\u001b[0m_can_hold_identifiers_and_holds_name\u001b[0m\u001b[1;33m(\u001b[0m\u001b[0mname\u001b[0m\u001b[1;33m)\u001b[0m\u001b[1;33m:\u001b[0m\u001b[1;33m\u001b[0m\u001b[1;33m\u001b[0m\u001b[0m\n\u001b[0;32m   5464\u001b[0m                 \u001b[1;32mreturn\u001b[0m \u001b[0mself\u001b[0m\u001b[1;33m[\u001b[0m\u001b[0mname\u001b[0m\u001b[1;33m]\u001b[0m\u001b[1;33m\u001b[0m\u001b[1;33m\u001b[0m\u001b[0m\n\u001b[1;32m-> 5465\u001b[1;33m             \u001b[1;32mreturn\u001b[0m \u001b[0mobject\u001b[0m\u001b[1;33m.\u001b[0m\u001b[0m__getattribute__\u001b[0m\u001b[1;33m(\u001b[0m\u001b[0mself\u001b[0m\u001b[1;33m,\u001b[0m \u001b[0mname\u001b[0m\u001b[1;33m)\u001b[0m\u001b[1;33m\u001b[0m\u001b[1;33m\u001b[0m\u001b[0m\n\u001b[0m\u001b[0;32m   5466\u001b[0m \u001b[1;33m\u001b[0m\u001b[0m\n\u001b[0;32m   5467\u001b[0m     \u001b[1;32mdef\u001b[0m \u001b[0m__setattr__\u001b[0m\u001b[1;33m(\u001b[0m\u001b[0mself\u001b[0m\u001b[1;33m,\u001b[0m \u001b[0mname\u001b[0m\u001b[1;33m:\u001b[0m \u001b[0mstr\u001b[0m\u001b[1;33m,\u001b[0m \u001b[0mvalue\u001b[0m\u001b[1;33m)\u001b[0m \u001b[1;33m->\u001b[0m \u001b[1;32mNone\u001b[0m\u001b[1;33m:\u001b[0m\u001b[1;33m\u001b[0m\u001b[1;33m\u001b[0m\u001b[0m\n",
      "\u001b[1;31mAttributeError\u001b[0m: 'DataFrame' object has no attribute 'Wafer'"
     ]
    }
   ],
   "source": [
    "import pandas as pd\n",
    "import numpy as np\n",
    "df = pd.read_excel('Wafer Yield.xlsx', sheet_name='Raw Data', usecols = \"A:E\")\n",
    "print(df.head())\n",
    "\n",
    "####################################################################################################\n",
    "df1 = df.pivot_table(index=['Wafer'], columns=\"Bin\", values='Reading_1', aggfunc='count')\n",
    "print(df1)\n",
    "\n",
    "####################################################################################################\n",
    "wafer_cnts = pd.DataFrame(df1.Wafer.value_counts(normalize=True)*100).reset_index()\n",
    "print(wafer_cnts)\n",
    "# df1_1 = df.pivot_table(index=['Wafer'], columns=\"Bin\", values='Reading_1', aggfunc='%count')\n",
    "# print(df1_1)\n",
    "\n",
    "####################################################################################################\n",
    "df2 = df.pivot_table(index=['Wafer'], columns=(\"Bin\", \"Sub_Bin\"), values='Reading_1', aggfunc='count')\n",
    "print(df2)\n",
    "\n",
    "####################################################################################################\n",
    "\n",
    "\n",
    "####################################################################################################\n",
    "\n",
    "\n",
    "\n",
    "\n",
    "# df['Bin_Duplicate'] = df['Bin']\n",
    "\n",
    "# df1 = df.pivot_table(index=['Wafer'], columns=\"Bin\", values='Reading_1', aggfunc='count', margins=True, margins_name='Total', fill_value=0)\n",
    "# print(df1)\n",
    "\n",
    "# reading_1 = df.pivot_table(index=['Wafer'], columns=(\"Bin\"), values='Reading_1', margins=True, margins_name='Total')\n",
    "# total = reading_1['Total']\n",
    "# df2 = df.pivot_table(index=['Wafer'], columns=(\"Bin\"), values='Reading_1', aggfunc=lambda L: sum(L)/total, margins=True, margins_name='Total')\n",
    "# print(total)\n",
    "\n",
    "# df_pvt = df.pivot_table(index=['Wafer'], columns=(\"Bin\"), values=['Reading_1', 'Reading_2'], aggfunc=lambda L: sum(L)/len(L), margins=True, margins_name='Total')\n",
    "# # print(df_pvt)\n",
    "\n",
    "# df2 = df.pivot_table(index=['Wafer'], columns=\"Bin\", values=['Bin_Duplicate'], aggfunc='count', fill_value=0)\n",
    "\n",
    "# df3 = df2.apply(lambda x: x/x.sum(), axis=1)\n",
    "\n",
    "# df3.columns = df3.columns.droplevel(0) \n",
    "# df3.columns.name = None\n",
    "# df3 = df3.reset_index()\n",
    "# print(df3)"
   ]
  },
  {
   "cell_type": "code",
   "execution_count": null,
   "metadata": {},
   "outputs": [],
   "source": []
  }
 ],
 "metadata": {
  "kernelspec": {
   "name": "python3",
   "display_name": "Python 3.8.8 64-bit ('base': conda)"
  },
  "language_info": {
   "codemirror_mode": {
    "name": "ipython",
    "version": 3
   },
   "file_extension": ".py",
   "mimetype": "text/x-python",
   "name": "python",
   "nbconvert_exporter": "python",
   "pygments_lexer": "ipython3",
   "version": "3.8.8"
  },
  "interpreter": {
   "hash": "44c13dc6c3f21bbb987c14254e5f1628aa054b85b2e38852b8ccc1d4b03a22cf"
  }
 },
 "nbformat": 4,
 "nbformat_minor": 5
}